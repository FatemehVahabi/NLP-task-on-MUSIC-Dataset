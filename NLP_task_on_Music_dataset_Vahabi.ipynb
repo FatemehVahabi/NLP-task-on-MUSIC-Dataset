{
 "cells": [
  {
   "cell_type": "code",
   "execution_count": 1,
   "id": "a96a0742-30ca-4848-bbff-f876879296a0",
   "metadata": {},
   "outputs": [],
   "source": [
    "\n",
    "import csv\n",
    "import random\n",
    "from collections import defaultdict\n",
    "from nltk.util import pad_sequence\n",
    "from nltk.util import bigrams\n",
    "from nltk.util import ngrams\n",
    "from nltk.util import everygrams\n",
    "from nltk.lm.preprocessing import pad_both_ends\n",
    "from nltk.lm.preprocessing import flatten\n",
    "import pandas as pd\n",
    "import numpy as np\n",
    "\n",
    "music_data=pd.read_csv(r'E:\\arshad\\term 2\\NLP\\hw1\\music.csv')\n",
    "#music_data = music_data.drop('-')\n",
    "Name_music=music_data['name']\n",
    "Note_music=music_data['note']\n",
    "\n",
    "Dastgah_music=music_data['dastgah']\n"
   ]
  },
  {
   "cell_type": "markdown",
   "id": "6305d72d-8bcd-4468-b127-e7286b135b7d",
   "metadata": {},
   "source": [
    "#### مجموعه داده مورد نظر را دریافت میکنیم"
   ]
  },
  {
   "cell_type": "markdown",
   "id": "66502075-6f63-4f5f-ba66-b846fca3be01",
   "metadata": {},
   "source": [
    "## perplexity"
   ]
  },
  {
   "cell_type": "code",
   "execution_count": 2,
   "id": "ef2aa4e4-0479-43fb-bae2-3907d154c7ec",
   "metadata": {},
   "outputs": [],
   "source": [
    "import math\n",
    "def calculate_perplexity(notes_list, model, n):\n",
    "    perplexities = []\n",
    "    for notes in notes_list:\n",
    "        N = len(notes)\n",
    "        log_prob_sum = 0\n",
    "        notes=list(notes)\n",
    "        notes = [\"<s>\"] * (n - 1) + notes + [\"</s>\"]\n",
    "        for i in range(n, N + 1):\n",
    "            context = tuple(notes[i-n:i-1])\n",
    "            next_note = notes[i-1]\n",
    "            if context in model and next_note in model[context]:\n",
    "                prob = model[context][next_note]\n",
    "            else:\n",
    "                prob = 1 / (len(model[context]) + len(model))\n",
    "            log_prob_sum += math.log2(prob)\n",
    "        perplexity = 2 ** (-log_prob_sum / (N - n + 1))\n",
    "        perplexities.append(perplexity)\n",
    "    return perplexities\n"
   ]
  },
  {
   "cell_type": "markdown",
   "id": "ecd9059a-81c7-4829-abb4-e6a4851c659e",
   "metadata": {},
   "source": [
    "#### در این قطعه کد معیار سرگشتگی را برای هر قطعه کد محاسبه میکنیم. البته من برای این تمرین یک مجموعه را دریافت و یک لیست را بازگردانی میکنم که میزان سرگشتگی را بازگردانی میکند.\n"
   ]
  },
  {
   "cell_type": "code",
   "execution_count": 3,
   "id": "a13fb621-01a4-4360-9a48-f838f2c98fac",
   "metadata": {},
   "outputs": [],
   "source": [
    "def get_notes_from_csv2(df):\n",
    "    notes = []\n",
    "    Note_music=df['note']\n",
    "    for i in range(len(df)):\n",
    "        sen=Note_music[i].split(' ')\n",
    "        sen.remove('')\n",
    "        for s in sen:\n",
    "            notes.append(s)\n",
    "    return notes"
   ]
  },
  {
   "cell_type": "markdown",
   "id": "7ac0ef0f-dbba-475c-8f2d-e1c57413b7c2",
   "metadata": {},
   "source": [
    "#### در این قطعه کد ما مجموعه داده را به لیستی از نوت ها تفکیک میکنیم"
   ]
  },
  {
   "cell_type": "code",
   "execution_count": 4,
   "id": "33cf5cdd-c83b-4cc7-959f-06d9bc1b0e4d",
   "metadata": {},
   "outputs": [],
   "source": [
    "import re\n",
    "def create_ngram_model(n, notes, alpha):\n",
    "    \n",
    "    model = defaultdict(list)\n",
    "    for i in range(len(notes)-n):\n",
    "        sequence = tuple(notes[i:i+n])\n",
    "        next_note = notes[i+n]\n",
    "        model[sequence].append(next_note)\n",
    "    ## smoothing\n",
    "    unique_sequences = set(model.keys())\n",
    "    for sequence in unique_sequences:\n",
    "        next_notes = model[sequence]\n",
    "        total_count = len(next_notes)\n",
    "        for note in set(next_notes):\n",
    "            count = next_notes.count(note)\n",
    "            probability = (count + alpha) / (total_count + len(set(notes)))\n",
    "            model[sequence][model[sequence].index(note)] = (note, probability)\n",
    "    return model"
   ]
  },
  {
   "cell_type": "markdown",
   "id": "810aad70-7294-4dcd-a288-c2e1cdc82801",
   "metadata": {},
   "source": [
    "#### در این قطعه کد ما مدل انگراممان را میسازیم. ابتدا تاپل هایی با تعداد عدد ان را میسازیم. سپس فرایند هموارسازی را روی ان اعمال میکنیم"
   ]
  },
  {
   "cell_type": "code",
   "execution_count": 5,
   "id": "394f8357-98dc-4a27-9c02-d8b964815945",
   "metadata": {},
   "outputs": [],
   "source": [
    "def generate_notes(model, start_sequence, length,n):\n",
    "    current_sequence = tuple(start_sequence.split())\n",
    "    x=current_sequence[len(current_sequence)-n:len(current_sequence)]\n",
    "    x=tuple(x)\n",
    "    output_notes = list(current_sequence)\n",
    "    for i in range(length):\n",
    "        x=current_sequence[len(current_sequence)-n:len(current_sequence)]\n",
    "        x=tuple(x)\n",
    "        if x in model:\n",
    "            possible_next_notes = model[x]\n",
    "            # Choose a random next note from the possible options\n",
    "            next_note = possible_next_notes[random.randrange(len(possible_next_notes))]\n",
    "            output_notes.append(next_note[0])\n",
    "            # Update sequence with the new note\n",
    "            current_sequence = current_sequence[1:] + (next_note[0],)\n",
    "        else:\n",
    "            break\n",
    "    return ' '.join(output_notes)"
   ]
  },
  {
   "cell_type": "markdown",
   "id": "68d4b441-0c55-4d62-9f72-d33ae39a8567",
   "metadata": {},
   "source": [
    "#### در قطعه کد بالا انتهای رشته را میگیرد یعنی اگر بایگرام باشد اخرین نوت را در نظر میگیرد و اگر تریگرام باشد، دو نوت اخر را در نظر میگیرد. سپس به مدل رجوع میکند و با توجه به احتمالات ممکن یک نوت را به انتهای رشته اضافه میکند. این فرایند تا زمانی که طول رشته 14 شود ادامه می یابد."
   ]
  },
  {
   "cell_type": "markdown",
   "id": "9185be51-6358-43e5-9120-5e9fa6f15ae8",
   "metadata": {},
   "source": [
    "# bigram"
   ]
  },
  {
   "cell_type": "markdown",
   "id": "bf162871-a995-4f5d-bfcd-c9b1837cf314",
   "metadata": {},
   "source": [
    "#### در قطعه کدهای زیر مدل بایگرام فراخوانی میشود و رشته ساخته می شود و سپس به دو لیست اضافه میشود . سپس ان دو لیست را به تابع محاسبه سرگشتگی میدهیم و این معیار را برای هر رشته محاسبه میکنیم."
   ]
  },
  {
   "cell_type": "code",
   "execution_count": 6,
   "id": "952d94d4-683e-4842-8bc1-66d5355bcb9f",
   "metadata": {
    "tags": []
   },
   "outputs": [],
   "source": [
    "notes=get_notes_from_csv2(music_data)\n",
    "model1=create_ngram_model(1, notes, alpha=1)\n",
    "model2=create_ngram_model(1, notes, alpha=0.5)\n",
    "notes1=[]\n",
    "notes2=[]"
   ]
  },
  {
   "cell_type": "code",
   "execution_count": 7,
   "id": "40ff9783-6746-4d34-ab1d-491aceeef752",
   "metadata": {
    "tags": []
   },
   "outputs": [
    {
     "name": "stdout",
     "output_type": "stream",
     "text": [
      "S S S S A S G S C Bb C S D E\n",
      "S S S S G C D D D B C B S D\n"
     ]
    }
   ],
   "source": [
    "not1=generate_notes(model1, 'S S S S', 10,1)\n",
    "not2=generate_notes(model2, 'S S S S', 10,1)\n",
    "notes1.append(not1)\n",
    "notes2.append(not2)\n",
    "print(not1)\n",
    "print(not2)"
   ]
  },
  {
   "cell_type": "code",
   "execution_count": 8,
   "id": "7e87847d-9ba8-4cf6-be12-89c0cb31c249",
   "metadata": {
    "tags": []
   },
   "outputs": [
    {
     "name": "stdout",
     "output_type": "stream",
     "text": [
      "G C G C F G A B S G B B B C\n",
      "G C G C C G A D S D D C C C\n"
     ]
    }
   ],
   "source": [
    "not1=generate_notes(model1, 'G C G C', 10,1)\n",
    "not2=generate_notes(model2, 'G C G C', 10,1)\n",
    "notes1.append(not1)\n",
    "notes2.append(not2)\n",
    "print(not1)\n",
    "print(not2)"
   ]
  },
  {
   "cell_type": "code",
   "execution_count": 9,
   "id": "ae8a6d28-2f9f-43cb-899c-23714eddc76c",
   "metadata": {},
   "outputs": [
    {
     "name": "stdout",
     "output_type": "stream",
     "text": [
      "A B C D Bb S G G D E D E E E\n",
      "A B C D D D D C C C C C C C\n"
     ]
    }
   ],
   "source": [
    "not1=generate_notes(model1, 'A B C D', 10,1)\n",
    "not2=generate_notes(model2, 'A B C D', 10,1)\n",
    "notes1.append(not1)\n",
    "notes2.append(not2)\n",
    "print(not1)\n",
    "print(not2)"
   ]
  },
  {
   "cell_type": "code",
   "execution_count": 10,
   "id": "494456c4-74ef-449c-8264-c9b8eab23bbd",
   "metadata": {
    "tags": []
   },
   "outputs": [
    {
     "name": "stdout",
     "output_type": "stream",
     "text": [
      "A S B Db\n",
      "A S B Db\n"
     ]
    }
   ],
   "source": [
    "not1=generate_notes(model1, 'A S B Db',10,1)\n",
    "not2=generate_notes(model2, 'A S B Db',10,1)\n",
    "notes1.append(not1)\n",
    "notes2.append(not2)\n",
    "print(not1)\n",
    "print(not2)"
   ]
  },
  {
   "cell_type": "code",
   "execution_count": 11,
   "id": "9ea03960-28eb-4424-977a-47b182e08247",
   "metadata": {
    "tags": []
   },
   "outputs": [
    {
     "name": "stdout",
     "output_type": "stream",
     "text": [
      "A Bb C D E E E E S D D D D F\n",
      "A Bb C D D E S D E S B A A E\n"
     ]
    }
   ],
   "source": [
    "not1=generate_notes(model1, 'A Bb C D',10,1)\n",
    "not2=generate_notes(model2, 'A Bb C D',10,1)\n",
    "notes1.append(not1)\n",
    "notes2.append(not2)\n",
    "print(not1)\n",
    "print(not2)"
   ]
  },
  {
   "cell_type": "code",
   "execution_count": 12,
   "id": "909e7b3e-63eb-41fc-903d-40b2edcf8359",
   "metadata": {
    "tags": []
   },
   "outputs": [
    {
     "name": "stdout",
     "output_type": "stream",
     "text": [
      "Perplexity: [24.64591563611437, 27.617008908077093, 27.725202619895747, 22.23574609159935, 27.89984514893912]\n"
     ]
    }
   ],
   "source": [
    "perplexity = calculate_perplexity(notes1, model1, 2)\n",
    "print(\"Perplexity:\", perplexity)"
   ]
  },
  {
   "cell_type": "code",
   "execution_count": 13,
   "id": "70684e82-2144-44bf-8925-ac20daa1445b",
   "metadata": {},
   "outputs": [
    {
     "name": "stdout",
     "output_type": "stream",
     "text": [
      "Perplexity: [25.471637089954047, 30.116395821065208, 29.525829674541768, 21.086221420048247, 26.226336788315436]\n"
     ]
    }
   ],
   "source": [
    "perplexity = calculate_perplexity(notes2, model2, 2)\n",
    "print(\"Perplexity:\", perplexity)"
   ]
  },
  {
   "cell_type": "markdown",
   "id": "f960409c-43f8-491d-97e0-4311985af0d3",
   "metadata": {},
   "source": [
    "# trigram"
   ]
  },
  {
   "cell_type": "markdown",
   "id": "c284aec1-ff26-4e76-a3ab-e9d0714575c3",
   "metadata": {},
   "source": [
    "#### در قطعه کدهای زیر مدل تریگرام فراخوانی میشود و رشته ساخته می شود و سپس به دو لیست اضافه میشود . سپس ان دو لیست را به تابع محاسبه سرگشتگی میدهیم و این معیار را برای هر رشته محاسبه میکنیم."
   ]
  },
  {
   "cell_type": "code",
   "execution_count": 14,
   "id": "3091d10b-bae3-42ac-8028-93a12687ea5f",
   "metadata": {},
   "outputs": [],
   "source": [
    "notes=get_notes_from_csv2(music_data)\n",
    "model1=create_ngram_model(2, notes, alpha=1)\n",
    "model2=create_ngram_model(2, notes, alpha=0.5)\n",
    "notes1=[]\n",
    "notes2=[]"
   ]
  },
  {
   "cell_type": "code",
   "execution_count": 15,
   "id": "b6992957-2e3f-4cab-8302-3c2650ac6802",
   "metadata": {
    "tags": []
   },
   "outputs": [
    {
     "name": "stdout",
     "output_type": "stream",
     "text": [
      "S S S S G C S Ab G S D Bb A A\n",
      "S S S S G C C C D E E D D Bb\n"
     ]
    }
   ],
   "source": [
    "not1=generate_notes(model1, 'S S S S', 10,2)\n",
    "not2=generate_notes(model2, 'S S S S', 10,2)\n",
    "notes1.append(not1)\n",
    "notes2.append(not2)\n",
    "print(not1)\n",
    "print(not2)"
   ]
  },
  {
   "cell_type": "code",
   "execution_count": 16,
   "id": "15827f11-a727-43e6-8f3c-4d16ff22f1d0",
   "metadata": {},
   "outputs": [
    {
     "name": "stdout",
     "output_type": "stream",
     "text": [
      "G C G C C C C F G G F G F F\n",
      "G C G C C C D D E F C C C C\n"
     ]
    }
   ],
   "source": [
    "not1=generate_notes(model1, 'G C G C', 10,2)\n",
    "not2=generate_notes(model2, 'G C G C', 10,2)\n",
    "notes1.append(not1)\n",
    "notes2.append(not2)\n",
    "print(not1)\n",
    "print(not2)"
   ]
  },
  {
   "cell_type": "code",
   "execution_count": 17,
   "id": "ada0b093-893b-48c6-b3fc-719e36047e4e",
   "metadata": {},
   "outputs": [
    {
     "name": "stdout",
     "output_type": "stream",
     "text": [
      "A B C D E F G E D E E E E D\n",
      "A B C D B\n"
     ]
    }
   ],
   "source": [
    "not1=generate_notes(model1, 'A B C D', 10,2)\n",
    "not2=generate_notes(model2, 'A B C D', 10,2)\n",
    "notes1.append(not1)\n",
    "notes2.append(not2)\n",
    "print(not1)\n",
    "print(not2)"
   ]
  },
  {
   "cell_type": "code",
   "execution_count": 18,
   "id": "f1b2cfb7-5c03-4157-afd0-4efbdc57f74d",
   "metadata": {},
   "outputs": [
    {
     "name": "stdout",
     "output_type": "stream",
     "text": [
      "A S B Db\n",
      "A S B Db\n"
     ]
    }
   ],
   "source": [
    "not1=generate_notes(model1, 'A S B Db', 10,2)\n",
    "not2=generate_notes(model2, 'A S B Db', 10,2)\n",
    "notes1.append(not1)\n",
    "notes2.append(not2)\n",
    "print(not1)\n",
    "print(not2)"
   ]
  },
  {
   "cell_type": "code",
   "execution_count": 19,
   "id": "0ede2e09-1b5c-405d-8665-ee79bbd6c5ef",
   "metadata": {},
   "outputs": [
    {
     "name": "stdout",
     "output_type": "stream",
     "text": [
      "A Bb C D E C C Bb C S S G C S\n",
      "A Bb C D D E F E E C C D Bb B\n"
     ]
    }
   ],
   "source": [
    "not1=generate_notes(model1, 'A Bb C D', 10,2)\n",
    "not2=generate_notes(model2, 'A Bb C D', 10,2)\n",
    "notes1.append(not1)\n",
    "notes2.append(not2)\n",
    "print(not1)\n",
    "print(not2)"
   ]
  },
  {
   "cell_type": "code",
   "execution_count": 20,
   "id": "819690de-6652-4c8c-82be-715714eb1818",
   "metadata": {},
   "outputs": [
    {
     "name": "stdout",
     "output_type": "stream",
     "text": [
      "Perplexity: [84.86614213547846, 93.71466915887856, 98.94916990072934, 99.99999999999997, 100.00000000000023]\n"
     ]
    }
   ],
   "source": [
    "perplexity = calculate_perplexity(notes1, model1, 3)\n",
    "print(\"Perplexity:\", perplexity)"
   ]
  },
  {
   "cell_type": "code",
   "execution_count": 21,
   "id": "6cb91849-f9b5-46f2-9c29-dcf5b7e30c72",
   "metadata": {},
   "outputs": [
    {
     "name": "stdout",
     "output_type": "stream",
     "text": [
      "Perplexity: [84.23515654184608, 90.39604469775983, 94.55949265821245, 95.99999999999993, 97.66398855933213]\n"
     ]
    }
   ],
   "source": [
    "perplexity = calculate_perplexity(notes2, model2, 3)\n",
    "print(\"Perplexity:\", perplexity)"
   ]
  },
  {
   "cell_type": "markdown",
   "id": "e2b3e8a6-bfb6-425f-9db2-078c006e1136",
   "metadata": {},
   "source": [
    "## unigram"
   ]
  },
  {
   "cell_type": "code",
   "execution_count": 22,
   "id": "cdf5a48c-e729-4ac3-9528-f9aa62ce0948",
   "metadata": {},
   "outputs": [],
   "source": [
    "from collections import Counter\n",
    "import re\n",
    "def create_unigram_model(df, alpha=1):\n",
    "    tokens = []\n",
    "    for i in range(len(df['note'])):\n",
    "        x = re.findall(r'\\b\\w+\\b', df['note'][i].lower())\n",
    "        tokens.extend(x)\n",
    "    token_counts = Counter(tokens)\n",
    "    total_tokens = sum(token_counts.values())\n",
    "    probabilities = {}\n",
    "    vocab_size = len(token_counts.keys())\n",
    "    for token, count in token_counts.items():\n",
    "        probabilities[token] = (count + alpha) / (total_tokens + alpha * vocab_size)\n",
    "    return probabilities"
   ]
  },
  {
   "cell_type": "markdown",
   "id": "af13ee48-21a3-479d-8e2d-9932ee103c40",
   "metadata": {},
   "source": [
    "#### در کد بالا مدل یونیگرام را میسازیم و فرایند هموارسازی را با دریافت مقدار الفا بر روی ان تاثیر میدهیم."
   ]
  },
  {
   "cell_type": "code",
   "execution_count": 23,
   "id": "a3d934eb-db1f-4678-a8de-c83d02ef640c",
   "metadata": {},
   "outputs": [],
   "source": [
    "import random\n",
    "def get_sampled_ind(probs):\n",
    "    cum_probs = [sum(probs[:i+1]) for i in range(len(probs))]\n",
    "    if cum_probs[-1] >=1:\n",
    "        x=(cum_probs[-1]-1)\n",
    "        s=float(x)\n",
    "        cum_probs=[i-s for i in cum_probs]\n",
    "    else:\n",
    "        x=(1-cum_probs[-1])\n",
    "        s=float(x)\n",
    "        cum_probs=[i+s for i in cum_probs]\n",
    "    rand = random.random()\n",
    "    for i in range(len(cum_probs)):\n",
    "        if rand <= cum_probs[i]:\n",
    "            index=i\n",
    "            return index"
   ]
  },
  {
   "cell_type": "markdown",
   "id": "3247c3b5-cfd5-4751-961c-e5ad6ccee104",
   "metadata": {},
   "source": [
    "#### تابع بالا یک ایندکس را به عنوان شماره بیت در مدل برای ما بازگردانی میکند"
   ]
  },
  {
   "cell_type": "code",
   "execution_count": 24,
   "id": "0a4efe32-d6a0-4a90-9786-8e78467dfb37",
   "metadata": {},
   "outputs": [],
   "source": [
    "def generate_note_unigram(model, start_sequence_str, length):\n",
    "    start_sequence = list(start_sequence_str.split())\n",
    "    output_notes = start_sequence\n",
    "    for i in range(length):\n",
    "        rand_state=len(start_sequence)-1\n",
    "        output_notes[rand_state].strip(' ')\n",
    "        x=list(model.keys())\n",
    "        probabilities = []\n",
    "        #print(model)\n",
    "        for value in model.values():\n",
    "            probabilities.append(value)\n",
    "        ind=get_sampled_ind(probabilities)\n",
    "        output_notes.insert(rand_state+1,x[ind])\n",
    "    output=' '.join(output_notes)\n",
    "    return output"
   ]
  },
  {
   "cell_type": "markdown",
   "id": "3c6a1482-b3ca-46f5-a830-ea69735dc4cb",
   "metadata": {},
   "source": [
    "#### در این تابع نیز ما مانند مدل قبلی عمل میکند"
   ]
  },
  {
   "cell_type": "code",
   "execution_count": 25,
   "id": "5d0bfead-ddee-4b0c-b7cb-8369db406d63",
   "metadata": {},
   "outputs": [],
   "source": [
    "def perplexity_unigram(text, unigram_model):\n",
    "    perplexity=[]\n",
    "    for item in text:\n",
    "        tokens = item.split()\n",
    "        log_prob_sum = 0\n",
    "        for token in tokens:\n",
    "            if token in unigram_model:\n",
    "                log_prob_sum += math.log(unigram_model[token])\n",
    "            else:          \n",
    "                log_prob_sum += math.log(0.0001)\n",
    "        \n",
    "        log_perplexity = -1 / (len(tokens) * log_prob_sum)\n",
    "        perplexity.append(2 ** log_perplexity)\n",
    "    return perplexity"
   ]
  },
  {
   "cell_type": "markdown",
   "id": "0d8aabbb-fee6-4bbb-8dea-3c70250be2f4",
   "metadata": {},
   "source": [
    "#### در قطعه کد بالا سرگشتگی را برای یک مدل یونیگرام محاسبه میکنیم."
   ]
  },
  {
   "cell_type": "markdown",
   "id": "19006e97-aa37-4d93-8854-aafb7d2ae369",
   "metadata": {},
   "source": [
    "#### در قطعه کدهای زیر مدل یونیگرام فراخوانی میشود و رشته ساخته می شود و سپس به دو لیست اضافه میشود . سپس ان دو لیست را به تابع محاسبه سرگشتگی میدهیم و این معیار را برای هر رشته محاسبه میکنیم."
   ]
  },
  {
   "cell_type": "code",
   "execution_count": 26,
   "id": "9b8096ba-4eac-42de-bb43-6cb65ff616c6",
   "metadata": {},
   "outputs": [],
   "source": [
    "df=pd.read_csv(r'E:\\arshad\\term 2\\NLP\\hw1\\music.csv')\n",
    "notes = get_notes_from_csv2(df)\n",
    "model1 = create_unigram_model(df,0.5)\n",
    "model2 = create_unigram_model(df,1)\n",
    "notes1=[]\n",
    "notes2=[]"
   ]
  },
  {
   "cell_type": "code",
   "execution_count": 27,
   "id": "98dfc1a1-ad81-47b5-9601-bfd217c6b033",
   "metadata": {},
   "outputs": [
    {
     "name": "stdout",
     "output_type": "stream",
     "text": [
      "S S S S f c c g bb a g c b c\n",
      "S S S S a c g bb g c e c a b\n"
     ]
    }
   ],
   "source": [
    "not1=generate_note_unigram(model1, 'S S S S', 10)\n",
    "not2=generate_note_unigram(model2, 'S S S S', 10)\n",
    "notes1.append(not1)\n",
    "notes2.append(not2)\n",
    "print(not1)\n",
    "print(not2)"
   ]
  },
  {
   "cell_type": "code",
   "execution_count": 28,
   "id": "d3873ce3-8909-4ffc-a9d3-ab453ccb4326",
   "metadata": {},
   "outputs": [
    {
     "name": "stdout",
     "output_type": "stream",
     "text": [
      "G C G C g s f e s e bb c c g\n",
      "G C G C b c e e g g a c bb d\n"
     ]
    }
   ],
   "source": [
    "not1=generate_note_unigram(model1, 'G C G C', 10)\n",
    "not2=generate_note_unigram(model2, 'G C G C', 10)\n",
    "notes1.append(not1)\n",
    "notes2.append(not2)\n",
    "print(not1)\n",
    "print(not2)"
   ]
  },
  {
   "cell_type": "code",
   "execution_count": 29,
   "id": "656957e5-cfdf-47a9-9726-eeaf9cb084b9",
   "metadata": {},
   "outputs": [
    {
     "name": "stdout",
     "output_type": "stream",
     "text": [
      "A B C D bb bb ab a bb g e g g eb\n",
      "A B C D g g g c g a g ab f c\n"
     ]
    }
   ],
   "source": [
    "not1=generate_note_unigram(model1, 'A B C D', 10)\n",
    "not2=generate_note_unigram(model2, 'A B C D', 10)\n",
    "notes1.append(not1)\n",
    "notes2.append(not2)\n",
    "print(not1)\n",
    "print(not2)"
   ]
  },
  {
   "cell_type": "code",
   "execution_count": 30,
   "id": "ee5cf5dc-308f-415c-ab9e-7b48fc1c9280",
   "metadata": {},
   "outputs": [
    {
     "name": "stdout",
     "output_type": "stream",
     "text": [
      "A Bb C D g g bb c a d g d ab s\n",
      "A Bb C D bb a g e e b bb g e f\n"
     ]
    }
   ],
   "source": [
    "not1=generate_note_unigram(model1, 'A Bb C D', 10)\n",
    "not2=generate_note_unigram(model2, 'A Bb C D', 10)\n",
    "notes1.append(not1)\n",
    "notes2.append(not2)\n",
    "print(not1)\n",
    "print(not2)"
   ]
  },
  {
   "cell_type": "code",
   "execution_count": 31,
   "id": "e21879c1-4e9d-4361-b17a-ba7ed24fc6cd",
   "metadata": {},
   "outputs": [
    {
     "name": "stdout",
     "output_type": "stream",
     "text": [
      "A S B Db s bb e e a c b e d e\n",
      "A S B Db a e b e c bb c a e f\n"
     ]
    }
   ],
   "source": [
    "not1=generate_note_unigram(model1, 'A S B Db', 10)\n",
    "not2=generate_note_unigram(model2, 'A S B Db', 10)\n",
    "notes1.append(not1)\n",
    "notes2.append(not2)\n",
    "print(not1)\n",
    "print(not2)"
   ]
  },
  {
   "cell_type": "code",
   "execution_count": 32,
   "id": "7ee05f26-610e-44b7-bcae-2f926e1f5360",
   "metadata": {},
   "outputs": [
    {
     "name": "stdout",
     "output_type": "stream",
     "text": [
      "Perplexity: [1.0008562494516828, 1.0008459565234427, 1.0007897912863555, 1.0008334172698121, 1.000827976909278]\n"
     ]
    }
   ],
   "source": [
    "perplexity = perplexity_unigram(notes1, model1)\n",
    "print(\"Perplexity:\", perplexity)"
   ]
  },
  {
   "cell_type": "code",
   "execution_count": 33,
   "id": "022dc126-e74b-452b-bb50-fada12fd81fe",
   "metadata": {},
   "outputs": [
    {
     "name": "stdout",
     "output_type": "stream",
     "text": [
      "Perplexity: [1.0008520309500284, 1.0008514535946609, 1.0008543257092892, 1.0008321080315923, 1.000832329758147]\n"
     ]
    }
   ],
   "source": [
    "perplexity = perplexity_unigram(notes2, model2)\n",
    "print(\"Perplexity:\", perplexity)"
   ]
  },
  {
   "cell_type": "code",
   "execution_count": null,
   "id": "71751cea-0386-4926-af54-5aaa821bae8e",
   "metadata": {},
   "outputs": [],
   "source": []
  },
  {
   "cell_type": "code",
   "execution_count": null,
   "id": "061de1dd-7c55-40e0-9e8b-8310e663c22d",
   "metadata": {},
   "outputs": [],
   "source": []
  }
 ],
 "metadata": {
  "kernelspec": {
   "display_name": "Python 3 (ipykernel)",
   "language": "python",
   "name": "python3"
  },
  "language_info": {
   "codemirror_mode": {
    "name": "ipython",
    "version": 3
   },
   "file_extension": ".py",
   "mimetype": "text/x-python",
   "name": "python",
   "nbconvert_exporter": "python",
   "pygments_lexer": "ipython3",
   "version": "3.9.7"
  }
 },
 "nbformat": 4,
 "nbformat_minor": 5
}
